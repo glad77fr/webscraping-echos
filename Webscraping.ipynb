{
 "cells": [
  {
   "cell_type": "code",
   "execution_count": 19,
   "metadata": {},
   "outputs": [],
   "source": [
    "import requests\n",
    "from bs4 import BeautifulSoup\n",
    "import pandas as pd\n",
    "import re\n",
    "from ebooklib import epub\n",
    "import datetime"
   ]
  },
  {
   "cell_type": "code",
   "execution_count": 20,
   "metadata": {},
   "outputs": [],
   "source": [
    "request = requests.get(r'https://www.lesechos.fr/')"
   ]
  },
  {
   "cell_type": "code",
   "execution_count": 21,
   "metadata": {},
   "outputs": [],
   "source": [
    "soup = BeautifulSoup(request.text, \"html.parser\")"
   ]
  },
  {
   "cell_type": "code",
   "execution_count": 22,
   "metadata": {},
   "outputs": [],
   "source": [
    "links_with_text = []\n",
    "for a in soup.find_all('a', href=True): \n",
    "    if a.text: \n",
    "        links_with_text.append(a['href'])"
   ]
  },
  {
   "cell_type": "code",
   "execution_count": 23,
   "metadata": {},
   "outputs": [],
   "source": [
    "df_echo = pd.DataFrame(columns=[\"href\",\"id\", \"Label\", \"Sublabel\", \"Title\", \"Lead\", \"Publication\", \"Description\"])"
   ]
  },
  {
   "cell_type": "code",
   "execution_count": 24,
   "metadata": {},
   "outputs": [],
   "source": [
    "df_echo[\"href\"] = links_with_text"
   ]
  },
  {
   "cell_type": "code",
   "execution_count": 25,
   "metadata": {},
   "outputs": [],
   "source": [
    "def split_it(href):\n",
    "    try:\n",
    "        result = re.findall('\\d{7}$', href)\n",
    "        result = result[0]\n",
    "    except:\n",
    "        result = \"\"\n",
    "    return result"
   ]
  },
  {
   "cell_type": "code",
   "execution_count": 26,
   "metadata": {},
   "outputs": [],
   "source": [
    "df_echo[\"id\"] = df_echo[\"href\"].apply(lambda x: split_it(x))"
   ]
  },
  {
   "cell_type": "code",
   "execution_count": 27,
   "metadata": {},
   "outputs": [],
   "source": [
    "df_echo = df_echo.loc[df_echo[\"id\"]!=\"\"].reset_index(drop=True)"
   ]
  },
  {
   "cell_type": "code",
   "execution_count": 28,
   "metadata": {},
   "outputs": [],
   "source": [
    "r = requests.get(r'https://api.lesechos.fr/api/v1/articles/1242262')\n",
    "r = r.json()"
   ]
  },
  {
   "cell_type": "code",
   "execution_count": 29,
   "metadata": {},
   "outputs": [
    {
     "name": "stdout",
     "output_type": "stream",
     "text": [
      "KO 1243676\n",
      "KO 1243470\n",
      "KO 1243457\n"
     ]
    }
   ],
   "source": [
    "for i, val in enumerate(df_echo.itertuples()):\n",
    "    try:\n",
    "        url = r\"https://api.lesechos.fr/api/v1/articles/\" + str(df_echo.at[i, \"id\"])\n",
    "        r =  requests.get(url).json()\n",
    "        df_echo.at[i, \"Label\"] = r[\"stripes\"][0][\"mainContent\"][0][\"data\"][\"section\"][\"label\"] # Label\n",
    "        df_echo.at[i, \"Sublabel\"]= r[\"stripes\"][0][\"mainContent\"][0][\"data\"][\"subsection\"][\"label\"] # Sublabel\n",
    "        df_echo.at[i, \"Title\"]= r[\"stripes\"][0][\"mainContent\"][0][\"data\"][\"title\"] # Title\n",
    "        df_echo.at[i, \"Lead\"]= r[\"stripes\"][0][\"mainContent\"][0][\"data\"][\"lead\"] # Lead\n",
    "        df_echo.at[i, \"Publication\"]= r[\"stripes\"][0][\"mainContent\"][0][\"data\"][\"publicationDate\"]\n",
    "        df_echo.at[i, \"Description\"] = r[\"stripes\"][0][\"mainContent\"][0][\"data\"][\"description\"] # Description\n",
    "        \n",
    "    except:\n",
    "        print(\"KO \" + str(df_echo.at[i,\"id\"]))\n",
    "       "
   ]
  },
  {
   "cell_type": "code",
   "execution_count": 30,
   "metadata": {},
   "outputs": [],
   "source": [
    "df_echo = df_echo.loc[df_echo[\"Label\"] != \"\"].reset_index(drop=True)"
   ]
  },
  {
   "cell_type": "code",
   "execution_count": 31,
   "metadata": {},
   "outputs": [],
   "source": [
    "# Filtre sur les articles du jours\n",
    "now = datetime.date.today()\n",
    "df_echo[\"Publication\"] = pd.to_datetime(df_echo[\"Publication\"])\n",
    "df_echo[\"Publication\"] = df_echo[\"Publication\"].dt.date\n",
    "df_echo = df_echo.loc[df_echo[\"Publication\"]==now]"
   ]
  },
  {
   "cell_type": "code",
   "execution_count": 32,
   "metadata": {},
   "outputs": [],
   "source": [
    "# Ajout des chapitres au format epub\n",
    "# Create chapter\n",
    "def chapter(title, filename, content):\n",
    "    chapter = epub.EpubHtml(title=title, file_name = filename, lang='fr')\n",
    "    chapter.content = content\n",
    "    return chapter\n",
    "\n",
    "for i, val in enumerate(df_echo.iterrows()):\n",
    "    try:\n",
    "        df_echo.at[i, \"Chapter\"]=chapter(df_echo.at[i,\"Title\"],'chap_0'+ str(i) + '.xhtml',df_echo.at[i, \"Description\"])\n",
    "    except:\n",
    "        df_echo.at[i, \"Chapter\"]=\"ko\"\n"
   ]
  },
  {
   "cell_type": "code",
   "execution_count": 37,
   "metadata": {},
   "outputs": [],
   "source": [
    "df_echo = df_echo.drop_duplicates(\"Title\")\n",
    "df_echo =  df_echo.loc[df_echo[\"Chapter\"] != \"ko\"]\n",
    "df_echo = df_echo.loc[df_echo[\"Chapter\"].isna() == False]\n",
    "df_echo = df_echo.reset_index(drop= True)"
   ]
  },
  {
   "cell_type": "code",
   "execution_count": 38,
   "metadata": {},
   "outputs": [],
   "source": [
    "book = epub.EpubBook()\n",
    "book.set_title('Echo ' + str(datetime.date.today()))\n",
    "chapter_list = []\n",
    "\n",
    "book.set_cover(\"image.jpg\", open('Les-Echos cover.jpg', 'rb').read())\n",
    "\n",
    "for chapter in list(df_echo[\"Chapter\"]):\n",
    "    book.add_item(chapter)\n",
    "\n",
    "# Define CSS style\n",
    "style = 'BODY {color: white;}'\n",
    "nav_css = epub.EpubItem(uid=\"style_nav\", file_name=\"style/nav.css\", media_type=\"text/css\", content=style)\n",
    "\n",
    "# Add CSS file\n",
    "book.add_item(nav_css)\n",
    "\n",
    "book.toc = (\n",
    "    (\n",
    "        epub.Section(\"Finance & Marchés\"),\n",
    "        tuple(df_echo.loc[df_echo[\"Label\"]==\"Finance & Marchés\", \"Chapter\"])),\n",
    "           (epub.Section(\"Industrie Services\"),\n",
    "    tuple(df_echo.loc[df_echo[\"Label\"]==\"Industrie Services\", \"Chapter\"])),\n",
    "    (epub.Section(\"Monde\"),\n",
    "    tuple(df_echo.loc[df_echo[\"Label\"]==\"Monde\", \"Chapter\"])),\n",
    "    (epub.Section(\"Tech - Médias\"),\n",
    "    tuple(df_echo.loc[df_echo[\"Label\"]==\"Tech - Médias\", \"Chapter\"])),\n",
    "    (epub.Section(\"Idées & Débats\"),\n",
    "    tuple(df_echo.loc[df_echo[\"Label\"]==\"Idées & Débats\", \"Chapter\"])),\n",
    "    (epub.Section(\"Weekend\"),\n",
    "    tuple(df_echo.loc[df_echo[\"Label\"]==\"Weekend\", \"Chapter\"])),\n",
    "     (epub.Section(\"PME Régions\"),\n",
    "    tuple(df_echo.loc[df_echo[\"Label\"]==\"PME Régions\", \"Chapter\"])),\n",
    "    (epub.Section(\"Politique Société\"),\n",
    "    tuple(df_echo.loc[df_echo[\"Label\"]==\"Politique Société\", \"Chapter\"])),\n",
    "    (epub.Section(\"Sport\"),\n",
    "    tuple(df_echo.loc[df_echo[\"Label\"]==\"Sport\", \"Chapter\"])),\n",
    "    (epub.Section(\"Patrimoine\"),\n",
    "    tuple(df_echo.loc[df_echo[\"Label\"]==\"Patrimoine\", \"Chapter\"]))  \n",
    "           )\n",
    "                      \n",
    "# add default NCX and Nav file\n",
    "book.add_item(epub.EpubNcx())\n",
    "book.add_item(epub.EpubNav())\n",
    "\n",
    "# Basic spine\n",
    "malist = [\"nav\"]\n",
    "for chapter in list(df_echo[\"Chapter\"]):\n",
    "    malist.append(chapter)\n",
    "\n",
    "book.spine = malist\n",
    "\n",
    "\n",
    "# write to the file\n",
    "epub.write_epub('test.epub', book, {})"
   ]
  },
  {
   "cell_type": "code",
   "execution_count": 36,
   "metadata": {},
   "outputs": [
    {
     "name": "stdout",
     "output_type": "stream",
     "text": [
      "0       <EpubHtml:chapter_0:chap_00.xhtml>\n",
      "1       <EpubHtml:chapter_1:chap_01.xhtml>\n",
      "2       <EpubHtml:chapter_2:chap_02.xhtml>\n",
      "3       <EpubHtml:chapter_3:chap_03.xhtml>\n",
      "4       <EpubHtml:chapter_4:chap_04.xhtml>\n",
      "5       <EpubHtml:chapter_5:chap_05.xhtml>\n",
      "6       <EpubHtml:chapter_6:chap_06.xhtml>\n",
      "7       <EpubHtml:chapter_7:chap_08.xhtml>\n",
      "8       <EpubHtml:chapter_8:chap_09.xhtml>\n",
      "9      <EpubHtml:chapter_9:chap_010.xhtml>\n",
      "10    <EpubHtml:chapter_10:chap_020.xhtml>\n",
      "11    <EpubHtml:chapter_11:chap_021.xhtml>\n",
      "12    <EpubHtml:chapter_12:chap_022.xhtml>\n",
      "13    <EpubHtml:chapter_13:chap_023.xhtml>\n",
      "14    <EpubHtml:chapter_14:chap_024.xhtml>\n",
      "15    <EpubHtml:chapter_15:chap_025.xhtml>\n",
      "16    <EpubHtml:chapter_16:chap_026.xhtml>\n",
      "17    <EpubHtml:chapter_17:chap_027.xhtml>\n",
      "18    <EpubHtml:chapter_18:chap_028.xhtml>\n",
      "19    <EpubHtml:chapter_19:chap_030.xhtml>\n",
      "20    <EpubHtml:chapter_20:chap_031.xhtml>\n",
      "21    <EpubHtml:chapter_21:chap_032.xhtml>\n",
      "22    <EpubHtml:chapter_22:chap_033.xhtml>\n",
      "23    <EpubHtml:chapter_23:chap_034.xhtml>\n",
      "24    <EpubHtml:chapter_24:chap_036.xhtml>\n",
      "25    <EpubHtml:chapter_25:chap_037.xhtml>\n",
      "26    <EpubHtml:chapter_26:chap_038.xhtml>\n",
      "27    <EpubHtml:chapter_27:chap_042.xhtml>\n",
      "28    <EpubHtml:chapter_28:chap_043.xhtml>\n",
      "29    <EpubHtml:chapter_29:chap_044.xhtml>\n",
      "30    <EpubHtml:chapter_30:chap_045.xhtml>\n",
      "31    <EpubHtml:chapter_31:chap_046.xhtml>\n",
      "32    <EpubHtml:chapter_32:chap_047.xhtml>\n",
      "33    <EpubHtml:chapter_33:chap_048.xhtml>\n",
      "34    <EpubHtml:chapter_34:chap_049.xhtml>\n",
      "35    <EpubHtml:chapter_35:chap_050.xhtml>\n",
      "36    <EpubHtml:chapter_36:chap_052.xhtml>\n",
      "37    <EpubHtml:chapter_37:chap_053.xhtml>\n",
      "38    <EpubHtml:chapter_38:chap_054.xhtml>\n",
      "39    <EpubHtml:chapter_39:chap_055.xhtml>\n",
      "40    <EpubHtml:chapter_40:chap_056.xhtml>\n",
      "41    <EpubHtml:chapter_41:chap_057.xhtml>\n",
      "42    <EpubHtml:chapter_42:chap_058.xhtml>\n",
      "43    <EpubHtml:chapter_43:chap_061.xhtml>\n",
      "44    <EpubHtml:chapter_44:chap_063.xhtml>\n",
      "45    <EpubHtml:chapter_45:chap_064.xhtml>\n",
      "46    <EpubHtml:chapter_46:chap_065.xhtml>\n",
      "47    <EpubHtml:chapter_47:chap_067.xhtml>\n",
      "48    <EpubHtml:chapter_48:chap_076.xhtml>\n",
      "49    <EpubHtml:chapter_49:chap_081.xhtml>\n",
      "50                                     NaN\n",
      "51                                     NaN\n",
      "52                                     NaN\n",
      "53                                     NaN\n",
      "54                                     NaN\n",
      "55                                     NaN\n",
      "Name: Chapter, dtype: object\n"
     ]
    }
   ],
   "source": [
    "print(df_echo[\"Chapter\"])"
   ]
  },
  {
   "cell_type": "code",
   "execution_count": null,
   "metadata": {},
   "outputs": [],
   "source": []
  }
 ],
 "metadata": {
  "kernelspec": {
   "display_name": "Python 3",
   "language": "python",
   "name": "python3"
  },
  "language_info": {
   "codemirror_mode": {
    "name": "ipython",
    "version": 3
   },
   "file_extension": ".py",
   "mimetype": "text/x-python",
   "name": "python",
   "nbconvert_exporter": "python",
   "pygments_lexer": "ipython3",
   "version": "3.8.3"
  }
 },
 "nbformat": 4,
 "nbformat_minor": 4
}
